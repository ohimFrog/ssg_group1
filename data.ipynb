{
 "cells": [
  {
   "cell_type": "markdown",
   "metadata": {},
   "source": [
    "## 심신개 Group1 Train and Test\n",
    "***\n",
    "### X 데이터\n",
    "X data는 신호데이터를 np.array를 통해 전환한 넘파이배열입니다.\n",
    "\n",
    "+ train validation test 이름\n",
    "\n",
    "    * 훈련데이터 : X_train\n",
    "    * 검증데이터 : X_val\n",
    "    * 테스트데이터 : X_test\n",
    "\n",
    "### Y 데이터\n",
    "Y data는 분류하는 5개의 super 레이블입니다. \n",
    "\n",
    "+ train validation test 이름, X와 다르게 소문자이며 뒤에 bin이 추가로 붙습니다.\n",
    "\n",
    "    * 훈련데이터 : y_train_bin\n",
    "    * 검증데이터 : y_validation_bin\n",
    "    * 테스트데이터  : y_test_bin\n",
    "\n",
    "#### 주의사항\n",
    "+ 다운받으신 데이터의 파일명을 바꾸면 안 됩니다. records100, records500 등은 그대로 놔두셔야 합니다.\n",
    "- 경로 오류가 뜨면 path에 해당하는 부분을 다시 확인하시길 바랍니다.\n",
    "+ 궁금한 사항 있으시거나 안 되는 부분 있으시면 톡 부탁드립니다.\n",
    "- 컴퓨팅 자원이 부족하신 분은 말씀 따로 주세요!"
   ]
  },
  {
   "cell_type": "code",
   "execution_count": 3,
   "metadata": {},
   "outputs": [],
   "source": [
    "import pandas as pd\n",
    "import numpy as np\n",
    "import wfdb\n",
    "import ast\n",
    "\n",
    "def load_raw_data(df, sampling_rate, path):\n",
    "    if sampling_rate == 100:\n",
    "        data = [wfdb.rdsamp(path+f) for f in df.filename_lr]\n",
    "    else:\n",
    "        data = [wfdb.rdsamp(path+f) for f in df.filename_hr]\n",
    "    data = np.array([signal for signal, meta in data])\n",
    "    return data\n",
    "\n",
    "path = \"C:/Users/윤태준/Desktop/Projects/ssg-project-group1/ptbxl/\"\n",
    "#해당 line에는 ptbxl_database.csv 가 있는 파일의 상위 폴더 경로를 입력하시면 됩니다\n",
    "sampling_rate=100\n",
    "\n",
    "Y = pd.read_csv(path+'ptbxl_database.csv', index_col='ecg_id')\n",
    "Y.scp_codes = Y.scp_codes.apply(lambda x: ast.literal_eval(x))\n",
    "\n",
    "X = load_raw_data(Y, sampling_rate, path)\n",
    "\n",
    "agg_df = pd.read_csv(path+'scp_statements.csv', index_col=0)\n",
    "agg_df = agg_df[agg_df.diagnostic == 1]\n",
    "\n",
    "def aggregate_diagnostic(y_dic):\n",
    "    tmp = []\n",
    "    for key in y_dic.keys():\n",
    "        if key in agg_df.index:\n",
    "            tmp.append(agg_df.loc[key].diagnostic_class)\n",
    "    return list(set(tmp))\n",
    "\n",
    "Y['diagnostic_superclass'] = Y.scp_codes.apply(aggregate_diagnostic)"
   ]
  },
  {
   "cell_type": "code",
   "execution_count": 4,
   "metadata": {},
   "outputs": [],
   "source": [
    "from sklearn.preprocessing import MultiLabelBinarizer\n",
    "#이 부분이 실행이 안 되시면 prompt에서 sklearn.preprocessing 설치하시면 됩니다\n",
    "Y = pd.read_csv(path + 'ptbxl_database.csv', index_col='ecg_id')\n",
    "Y.scp_codes = Y.scp_codes.apply(lambda x: ast.literal_eval(x))\n",
    "\n",
    "def aggregate_diagnostic(y_dic):\n",
    "    tmp = []\n",
    "    for key in y_dic.keys():\n",
    "        if key in agg_df.index:\n",
    "            tmp.append(agg_df.loc[key].diagnostic_class)\n",
    "    return list(set(tmp))\n",
    "\n",
    "agg_df = pd.read_csv(path + 'scp_statements.csv', index_col=0)\n",
    "agg_df = agg_df[agg_df.diagnostic == 1]\n",
    "Y['diagnostic_superclass'] = Y.scp_codes.apply(aggregate_diagnostic)\n",
    "\n",
    "empty_indices = Y[Y['diagnostic_superclass'].apply(lambda x: len(x) == 0)].index\n",
    "Y = Y.drop(empty_indices)\n",
    "\n",
    "X = load_raw_data(Y, sampling_rate, path)  \n",
    "\n",
    "test_fold = 10\n",
    "validation_fold = 9\n",
    "\n",
    "X_test = X[Y.strat_fold == test_fold]\n",
    "y_test = Y[Y.strat_fold == test_fold]['diagnostic_superclass']\n",
    "\n",
    "X_validation = X[Y.strat_fold == validation_fold]\n",
    "y_validation = Y[Y.strat_fold == validation_fold]['diagnostic_superclass']\n",
    "\n",
    "X_train = X[(Y.strat_fold != test_fold) & (Y.strat_fold != validation_fold)]\n",
    "y_train = Y[(Y.strat_fold != test_fold) & (Y.strat_fold != validation_fold)]['diagnostic_superclass']\n",
    "\n",
    "mlb = MultiLabelBinarizer()\n",
    "y_train_bin = mlb.fit_transform(y_train)\n",
    "y_test_bin = mlb.transform(y_test)\n",
    "y_validation_bin = mlb.transform(y_validation)\n"
   ]
  },
  {
   "cell_type": "code",
   "execution_count": 18,
   "metadata": {},
   "outputs": [
    {
     "name": "stdout",
     "output_type": "stream",
     "text": [
      "X_train shape : (17084, 1000, 12)\n",
      "X_validation shape : (2146, 1000, 12)\n",
      "X_test shape : (2158, 1000, 12)\n",
      "\n",
      "\n",
      "y_train_bin shape: (17084, 5)\n",
      "y_test_bin shape: (2158, 5)\n",
      "y_validation_bin shape: (2146, 5)\n"
     ]
    }
   ],
   "source": [
    "print(\"X_train shape :\", X_train.shape)\n",
    "print(\"X_validation shape :\", X_validation.shape)\n",
    "print(\"X_test shape :\", X_test.shape)\n",
    "print(\"\\n\")\n",
    "print(\"y_train_bin shape:\", y_train_bin.shape)\n",
    "print(\"y_test_bin shape:\", y_test_bin.shape)\n",
    "print(\"y_validation_bin shape:\", y_validation_bin.shape)\n"
   ]
  },
  {
   "cell_type": "code",
   "execution_count": null,
   "metadata": {},
   "outputs": [],
   "source": []
  }
 ],
 "metadata": {
  "kernelspec": {
   "display_name": "Python 3",
   "language": "python",
   "name": "python3"
  },
  "language_info": {
   "codemirror_mode": {
    "name": "ipython",
    "version": 3
   },
   "file_extension": ".py",
   "mimetype": "text/x-python",
   "name": "python",
   "nbconvert_exporter": "python",
   "pygments_lexer": "ipython3",
   "version": "3.11.2"
  }
 },
 "nbformat": 4,
 "nbformat_minor": 2
}
